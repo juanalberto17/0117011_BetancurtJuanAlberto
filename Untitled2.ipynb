{
 "cells": [
  {
   "cell_type": "markdown",
   "metadata": {},
   "source": [
    "1."
   ]
  },
  {
   "cell_type": "code",
   "execution_count": 1,
   "metadata": {},
   "outputs": [
    {
     "name": "stdout",
     "output_type": "stream",
     "text": [
      "digite el número:8964\n",
      "El valor absoluto es: 8964.0\n"
     ]
    }
   ],
   "source": [
    "num=float((input('digite el número:')))\n",
    "\n",
    "if num<0:\n",
    "    num=num*-1\n",
    "    print('El valor absoluto es:', num)\n",
    "    \n",
    "else:\n",
    "     print('El valor absoluto es:', num)\n",
    "     "
   ]
  },
  {
   "cell_type": "markdown",
   "metadata": {},
   "source": [
    "2."
   ]
  },
  {
   "cell_type": "code",
   "execution_count": null,
   "metadata": {},
   "outputs": [],
   "source": [
    "num= int(input('ingrese un número entero: '))\n",
    "\n",
    "if num < 0:\n",
    "    num = num * (-1)\n",
    "    \n",
    "if num > 0:\n",
    "    while num != 0:\n",
    "        E = num % 10\n",
    "        num //= 10\n",
    "        print(E, end='')"
   ]
  },
  {
   "cell_type": "markdown",
   "metadata": {},
   "source": [
    "3."
   ]
  },
  {
   "cell_type": "code",
   "execution_count": null,
   "metadata": {},
   "outputs": [],
   "source": [
    "num = int(input('ingrese un número entero de tres dígitos : '))\n",
    "\n",
    "if num//100 > 0 and num//100<=9:\n",
    "    \n",
    "    D1 = num // 100\n",
    "    R1 = num % 100\n",
    "    \n",
    "    D2 = R1 // 10\n",
    "    \n",
    "    D3 = R1 % 10\n",
    "    \n",
    "    if D1 == 8 or D2 == 8 or D3 == 8:\n",
    "        print('El número ', num , ' sí contiene el dígito 8')\n",
    "    else:\n",
    "        print('El número', num , ' no contiene el dígito 8')\n",
    "\n",
    "else:\n",
    "    print('eran TRES, ingrese nuevamente un número entero de TRES(3) dígitos')"
   ]
  },
  {
   "cell_type": "markdown",
   "metadata": {},
   "source": [
    "4."
   ]
  },
  {
   "cell_type": "code",
   "execution_count": null,
   "metadata": {},
   "outputs": [],
   "source": [
    "while True:\n",
    "    try:\n",
    "        num= int(input('ingrese un número entero positivo: '))\n",
    "        if num > 0:\n",
    "            break\n",
    "        else:\n",
    "            print('No se permite el ingreso de enteros negativos')\n",
    "    except ValueError:\n",
    "            print('No es entero positivo')\n",
    "\n",
    "suma = 0\n",
    "while num != 0:\n",
    "    if ((num%10)%2)==0:\n",
    "        suma += (num%10)\n",
    "    num //= 10\n",
    "\n",
    "print(f'la suma de sus digitos pares es {suma} ')   \n"
   ]
  },
  {
   "cell_type": "markdown",
   "metadata": {},
   "source": [
    "6."
   ]
  },
  {
   "cell_type": "code",
   "execution_count": null,
   "metadata": {},
   "outputs": [],
   "source": [
    "def Fibonacci(num):\n",
    "    pre = 0\n",
    "    pos = 1\n",
    "    pert = False\n",
    "    \n",
    "    while (pre <= num):\n",
    "        \n",
    "        if(pre == num):\n",
    "            pert = True\n",
    "        \n",
    "        suma = pre + pos\n",
    "        pre = pos\n",
    "        pos = suma\n",
    "    \n",
    "    return(pert)\n",
    "    \n",
    "num = int(input('ingrese un número entero: '))\n",
    "\n",
    "if(Fibonacci(num)):\n",
    "    print('ENHORABUENA,',num,' sí pertenece a la serie de Fibonacci')\n",
    "else:\n",
    "    print('PAILA MIJO,',num,' no pertenece a la serie de Fibonacci')\n",
    "        "
   ]
  },
  {
   "cell_type": "markdown",
   "metadata": {},
   "source": [
    "7."
   ]
  },
  {
   "cell_type": "code",
   "execution_count": null,
   "metadata": {},
   "outputs": [],
   "source": [
    "Lista1 = []\n",
    "Lista2 = []\n",
    "\n",
    "num = int(input('ingrese un número entero positivo: '))\n",
    "\n",
    "if num < 0:\n",
    "    print (' game over, El número no es entero positivo')\n",
    "else:  \n",
    "    a = 0\n",
    "    \n",
    "    while num > 0:\n",
    "        b = num % 10\n",
    "        a = b\n",
    "        Lista1.append(a)\n",
    "        num //= 10\n",
    "        \n",
    "    print('La lista creada es: ',Lista1)\n",
    "    \n",
    "    if Lista1 != []:\n",
    "        for i in Lista1:\n",
    "            Lista1.count(i)\n",
    "            if (Lista1.count(i) > 1):\n",
    "                c = Lista2.append(i)\n",
    "        if Lista2 != []:\n",
    "            print('Los dígitos repetidos son',Lista2)\n",
    "    else:\n",
    "        print('El número ',num,'no contiene ningún dígito repetido')\n",
    "    if Lista2 == []:\n",
    "        print('El número ',num,'no contiene ningún dígito repetido')    \n",
    "\n"
   ]
  },
  {
   "cell_type": "markdown",
   "metadata": {},
   "source": [
    "8."
   ]
  },
  {
   "cell_type": "code",
   "execution_count": null,
   "metadata": {},
   "outputs": [],
   "source": [
    "div_3=[]\n",
    "div_4=[]\n",
    "\n",
    "for i in range(1,101):\n",
    "    if i% 3==0 and len(div_3)<15:\n",
    "        div_3.append(i)\n",
    "    elif (i % 4==0) and (len(div_3)== 15) and (len(div_4) < 15):\n",
    "            div_4.append(i)\n",
    "      \n",
    "print(' la lista con los 15 numeros divisibles entre 3 es:', div_3)        \n",
    "print(' la lista con los 15 numeros divisibles entre 4 es:', div_4)  "
   ]
  },
  {
   "cell_type": "markdown",
   "metadata": {},
   "source": [
    "9."
   ]
  },
  {
   "cell_type": "code",
   "execution_count": null,
   "metadata": {},
   "outputs": [],
   "source": [
    "x1 = float(input('coordenada del centro en x del cículo 1 : '))\n",
    "y1 = float(input('coordenada del centro en y del cículo 1 :'))\n",
    "r1 = float(input('radio del círculo 1: '))\n",
    "\n",
    "x2 = float(input('coordenada del centro en x del cículo 2 : '))\n",
    "y2 = float(input('coordenada del centro en y del cículo 2 : '))\n",
    "r2 = float(input('radio del círculo 2: '))\n",
    "\n",
    "if r1 < 0 or r2 < 0:\n",
    "    print('Está malo parcero, los radios no pueden ser negativos')\n",
    "    \n",
    "else:\n",
    "    a = float(input('coordenada en x del punto (a,b), a : '))\n",
    "    b = float(input('coordenada en y del punto (a,b), b : '))\n",
    "    \n",
    "    R = (a**2 + b**2)**0.5\n",
    "    \n",
    "    if R < r1 and R < r2:\n",
    "        print ('El punto (',a,',',b,') está contenido de ambos círculos')\n",
    "        \n",
    "    else:\n",
    "        if R < r1 and R > r2:\n",
    "            print ('El punto (',a,',',b,') está contendo del círculo 1')\n",
    "        if R > r1 and R < r2:\n",
    "            print ('El punto (',a,',',b,') está contenido del círculo 2')\n",
    "        if R > r1 and R > r2:\n",
    "            print ('El punto (',a,',',b,') no esta contenido en ninguno')"
   ]
  },
  {
   "cell_type": "markdown",
   "metadata": {},
   "source": [
    "5."
   ]
  },
  {
   "cell_type": "code",
   "execution_count": null,
   "metadata": {},
   "outputs": [],
   "source": [
    "Nro = int(input('Ingrese un numero: '))\n",
    "    \n",
    "nro = str(Nro)\n",
    "count = 0\n",
    "    \n",
    "band = []\n",
    "    \n",
    "for i in range(len(nro)-1):\n",
    "        if nro[i] == 5:\n",
    "            if nro[i] == nro[i+1]:\n",
    "                count = count + 1\n",
    "                if i+2 < len(nro):\n",
    "                    if nro[i+2] != 5:\n",
    "                        count += 1\n",
    "\n",
    "print('En el numero ',nro,'hay ',count,'cincos consecutivos')\n",
    "    "
   ]
  },
  {
   "cell_type": "markdown",
   "metadata": {},
   "source": [
    "10."
   ]
  },
  {
   "cell_type": "code",
   "execution_count": null,
   "metadata": {},
   "outputs": [],
   "source": [
    "\n",
    "cadena =(input('ingrese la cadena:')).lower()\n",
    "print(cadena.swapcase())\n"
   ]
  },
  {
   "cell_type": "markdown",
   "metadata": {},
   "source": [
    "11."
   ]
  },
  {
   "cell_type": "code",
   "execution_count": null,
   "metadata": {},
   "outputs": [],
   "source": [
    "cadena =(input('ingrese la cadena:'))\n",
    "def vocales_mayuscula():\n",
    "    vocales= ['A','E','I','O','U','Á','É','Í','Ó','Ú','Ü']\n",
    "    contar = 0\n",
    "    for i in vocales:\n",
    "        for j in cadena:\n",
    "            if(i==j):\n",
    "                contar+=1\n",
    "    print('número de vocales en mayúscula :', contar)\n",
    "vocales_mayuscula()\n",
    "def vocales_tildes():\n",
    "    vocales= ['á','é','í','ó','ú','Á','É','Í','Ó','Ú',]\n",
    "    contar = 0\n",
    "    for i in vocales:\n",
    "        for j in cadena:\n",
    "            if(i==j):\n",
    "                contar+=1\n",
    "    print('número de letras con tilde :', contar)\n",
    "vocales_tildes()\n",
    "def contar_digitos():\n",
    "    contar=0\n",
    "    for i in cadena:\n",
    "        if(i.isalpha()):\n",
    "            contar+=1\n",
    "    print('Cantidad de digitos:',contar)\n",
    "contar_digitos()\n",
    "def contar_espacios():\n",
    "    espacio=[' ']\n",
    "    contar=0\n",
    "    for i in espacio:\n",
    "        for j in cadena:\n",
    "            if(i==j):\n",
    "                contar+=1\n",
    "    print('Cantidad de espacios:',contar)\n",
    "contar_espacios()\n",
    "def palabras_reservadas():\n",
    "    keyword= ['False','None','True','and','as','assert','break','class',\\\n",
    "'continue','def','del','elif','else','except','finally','for','from',\\\n",
    "'global','if','import','in',\\\n",
    "'is','lambda','nonlocal','not','or','pass',\\\n",
    "'raise','return','try','while','with','yield']\n",
    "    contar=0\n",
    "    for i in keyword:\n",
    "        for j in cadena:\n",
    "            if(i==j):\n",
    "                contar+=1\n",
    "    print('Palabras reservadas:',contar)\n",
    "palabras_reservadas()"
   ]
  },
  {
   "cell_type": "markdown",
   "metadata": {},
   "source": [
    "14."
   ]
  },
  {
   "cell_type": "code",
   "execution_count": null,
   "metadata": {},
   "outputs": [],
   "source": [
    "\n",
    "cad= input('ingrese la cadena de texto:')\n",
    "lista_letras=[]\n",
    "\n",
    "for letra in cad:\n",
    "    if not letra.isalnum():\n",
    "        pass\n",
    "    elif letra not in lista_letras:\n",
    "        lista_letras.append(letra)\n",
    "        \n",
    "lista_letras.sort()\n",
    "\n",
    "for letra in lista_letras:\n",
    "    rep= cad.count(letra)\n",
    "print(letra*rep,end='')    \n"
   ]
  }
 ],
 "metadata": {
  "kernelspec": {
   "display_name": "Python 3",
   "language": "python",
   "name": "python3"
  },
  "language_info": {
   "codemirror_mode": {
    "name": "ipython",
    "version": 3
   },
   "file_extension": ".py",
   "mimetype": "text/x-python",
   "name": "python",
   "nbconvert_exporter": "python",
   "pygments_lexer": "ipython3",
   "version": "3.7.3"
  }
 },
 "nbformat": 4,
 "nbformat_minor": 2
}
